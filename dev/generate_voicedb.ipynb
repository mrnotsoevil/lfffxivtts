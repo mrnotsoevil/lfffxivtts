{
 "cells": [
  {
   "cell_type": "code",
   "execution_count": 52,
   "id": "a2eab218-ea7e-447e-84d6-55a5b4c0a38c",
   "metadata": {},
   "outputs": [],
   "source": [
    "# Set the languages here (only DE and EN currently)\n",
    "languages = [\"de\", \"en\"] "
   ]
  },
  {
   "cell_type": "code",
   "execution_count": 53,
   "id": "2a9fd67e-0ca0-44ef-8820-2a2e9c1ad103",
   "metadata": {},
   "outputs": [],
   "source": [
    "# Build up a database of all reference voices and all TTS voices\n",
    "\n",
    "import os\n",
    "import librosa\n",
    "import numpy as np\n",
    "from tqdm import tqdm\n",
    "\n",
    "# Normalize sample rate\n",
    "sample_rate = 44100\n",
    "\n",
    "def extract_mfcc(audio_path, n_mfcc=13):\n",
    "    y, sr = librosa.load(audio_path, sr=sample_rate)\n",
    "    mfccs = librosa.feature.mfcc(y=y, sr=sample_rate, n_mfcc=n_mfcc)\n",
    "    return mfccs"
   ]
  },
  {
   "cell_type": "code",
   "execution_count": 54,
   "id": "bee9a1dc-d14d-4ae1-b63c-22435effb809",
   "metadata": {},
   "outputs": [
    {
     "name": "stderr",
     "output_type": "stream",
     "text": [
      "100%|███████████████████████████████████████████████████████████████████████████████████████████████████████████████████████████████████████████████████████████████████████████████████████████████████████████████████████████████████████████████████████████████████████████████████████| 77/77 [00:02<00:00, 37.13it/s]\n",
      "100%|███████████████████████████████████████████████████████████████████████████████████████████████████████████████████████████████████████████████████████████████████████████████████████████████████████████████████████████████████████████████████████████████████████████████████████| 77/77 [00:01<00:00, 38.96it/s]\n"
     ]
    }
   ],
   "source": [
    "# Load reference voices\n",
    "reference_voices = {}\n",
    "for lang in languages:\n",
    "    reference_voices[lang] = {}\n",
    "    voices_dir = \"voices/references/\" + lang + \"/\"\n",
    "    for file_ in tqdm(os.listdir(voices_dir)):\n",
    "        if not file_.endswith(\".wav\"):\n",
    "            continue\n",
    "        file = file_[:-4]\n",
    "        name = file.split(\"_\")[0]\n",
    "        gender = file.split(\"_\")[1]\n",
    "\n",
    "        mfcc = extract_mfcc(voices_dir + file_)\n",
    "        # print(lang, name, gender)\n",
    "        reference_voices[lang][name] = {\n",
    "            \"name\": name,\n",
    "            \"language\": lang,\n",
    "            \"gender\": gender,\n",
    "            \"mfcc\": mfcc\n",
    "        }"
   ]
  },
  {
   "cell_type": "code",
   "execution_count": 55,
   "id": "6d1af0de-ede4-4167-95de-6ec6cf98cee0",
   "metadata": {},
   "outputs": [
    {
     "name": "stderr",
     "output_type": "stream",
     "text": [
      "100%|█████████████████████████████████████████████████████████████████████████████████████████████████████████████████████████████████████████████████████████████████████████████████████████████████████████████████████████████████████████████████████████████████████████████████████| 237/237 [00:05<00:00, 40.59it/s]\n",
      "100%|█████████████████████████████████████████████████████████████████████████████████████████████████████████████████████████████████████████████████████████████████████████████████████████████████████████████████████████████████████████████████████████████████████████████████████| 110/110 [00:02<00:00, 47.80it/s]\n"
     ]
    }
   ],
   "source": [
    "# Load TTS voices\n",
    "tts_voices = {} \n",
    "for lang in languages:\n",
    "    tts_voices[lang] = {}\n",
    "    voices_dir = \"voices/tts/\" + lang + \"/\"\n",
    "\n",
    "    for file_ in tqdm(os.listdir(voices_dir)):\n",
    "        if not file_.endswith(\".wav\"):\n",
    "            continue\n",
    "        file = file_[:-4]\n",
    "        model, mlang, speaker, gender = file.split(\"_\")\n",
    "\n",
    "        mfcc = extract_mfcc(voices_dir + file_)\n",
    "        tts_voices[lang][file] = {\n",
    "            \"name\": file,\n",
    "            \"model\": model,\n",
    "            \"language\": lang,\n",
    "            \"gender\": gender,\n",
    "            \"speaker\": speaker,\n",
    "            \"mfcc\": mfcc\n",
    "        }"
   ]
  },
  {
   "cell_type": "code",
   "execution_count": 56,
   "id": "3fa70b37-6e2f-48a4-9200-b2a8e38ff4df",
   "metadata": {},
   "outputs": [],
   "source": [
    "def pad_or_truncate_mfcc(mfcc, target_shape):\n",
    "    # Pad or truncate the MFCC sequence to match the target shape\n",
    "    if mfcc.shape[1] < target_shape[1]:       \n",
    "        # in_shape = mfcc.shape\n",
    "        return np.pad(mfcc, ((0, 0), (0, target_shape[1] - mfcc.shape[1])), mode='constant')\n",
    "        # print(\"padding\", in_shape, target_shape, target_shape[1] - mfcc.shape[1], mfcc.shape)\n",
    "    elif mfcc.shape[1] > target_shape[1]:\n",
    "        return mfcc[:, :target_shape[1]]\n",
    "    return mfcc\n",
    "\n",
    "# Match each character to a TTS voice\n",
    "for lang in languages:\n",
    "    for c_name in reference_voices[lang]:\n",
    "        reference = reference_voices[lang][c_name]\n",
    "        c_gender = reference[\"gender\"]\n",
    "        c_mfcc = reference[\"mfcc\"]\n",
    "        \n",
    "        best = None\n",
    "        best_score = float(\"inf\")\n",
    "        \n",
    "        for tts_name in tts_voices[lang]:\n",
    "            tts = tts_voices[lang][tts_name]\n",
    "            tts_mfcc = tts[\"mfcc\"]            \n",
    "            \n",
    "            if tts[\"gender\"] == c_gender:\n",
    "                \n",
    "                distance = np.linalg.norm(c_mfcc - pad_or_truncate_mfcc(tts_mfcc, c_mfcc.shape))\n",
    "                \n",
    "                if distance < best_score:\n",
    "                    best = tts\n",
    "                    best_score = distance\n",
    "                    \n",
    "        # print(c_name, best[\"name\"], best_score)\n",
    "        reference[\"tts\"] = best\n",
    "        "
   ]
  },
  {
   "cell_type": "code",
   "execution_count": 57,
   "id": "a8378c73-c428-406c-85e7-de8877dba262",
   "metadata": {},
   "outputs": [],
   "source": [
    "# Build characters database\n",
    "characters = {}\n",
    "\n",
    "for lang in languages:\n",
    "    for c_name in reference_voices[lang]:\n",
    "        if c_name not in characters:\n",
    "            characters[c_name] = {\n",
    "                \"name\": c_name,\n",
    "                \"gender\": reference_voices[lang][c_name][\"gender\"],\n",
    "                \"tts\": {}\n",
    "            }\n",
    "        tts = reference_voices[lang][c_name][\"tts\"]\n",
    "        characters[c_name][\"tts\"][lang] = {\n",
    "            \"model\": tts[\"model\"],\n",
    "            \"language\": tts[\"language\"],\n",
    "            \"speaker\": tts[\"speaker\"],\n",
    "        }\n",
    "\n",
    "import json\n",
    "with open(\"../lfffxivtts/resources/characters.json\", \"w\") as f:\n",
    "    json.dump(characters, f, indent=4)"
   ]
  },
  {
   "cell_type": "code",
   "execution_count": 58,
   "id": "16cd2bca-ddca-4fb6-b3d3-4ab7b132e3c2",
   "metadata": {},
   "outputs": [],
   "source": [
    "# Export voices database\n",
    "from natsort import natsorted\n",
    "tts_voices_ = {}\n",
    "\n",
    "for lang in languages:\n",
    "    tts_voices_[lang] = []\n",
    "    for tts in tts_voices[lang].values():\n",
    "        tts_ = tts.copy()\n",
    "        del tts_[\"mfcc\"]\n",
    "        tts_voices_[lang].append(tts_)\n",
    "    tts_voices_[lang] = natsorted(tts_voices_[lang], key=lambda x: x[\"name\"])\n",
    "    \n",
    "import json\n",
    "with open(\"../lfffxivtts/resources/voices.json\", \"w\") as f:\n",
    "    json.dump(tts_voices_, f, indent=4)"
   ]
  }
 ],
 "metadata": {
  "kernelspec": {
   "display_name": "Python 3 (ipykernel)",
   "language": "python",
   "name": "python3"
  },
  "language_info": {
   "codemirror_mode": {
    "name": "ipython",
    "version": 3
   },
   "file_extension": ".py",
   "mimetype": "text/x-python",
   "name": "python",
   "nbconvert_exporter": "python",
   "pygments_lexer": "ipython3",
   "version": "3.10.14"
  }
 },
 "nbformat": 4,
 "nbformat_minor": 5
}
